{
 "cells": [
  {
   "cell_type": "code",
   "execution_count": 4,
   "id": "f836781b-2b96-4831-9001-a3b68caf6912",
   "metadata": {},
   "outputs": [
    {
     "name": "stdout",
     "output_type": "stream",
     "text": [
      "Accuracy: 1.00\n",
      "Precision: 1.00\n",
      "Recall: 1.00\n"
     ]
    },
    {
     "data": {
      "text/plain": [
       "['survey_attendance_model.pkl']"
      ]
     },
     "execution_count": 4,
     "metadata": {},
     "output_type": "execute_result"
    }
   ],
   "source": [
    "import pandas as pd\n",
    "from sklearn.ensemble import RandomForestClassifier\n",
    "from sklearn.model_selection import train_test_split\n",
    "import joblib\n",
    "import re\n",
    "\n",
    "# Load the dataset\n",
    "data = pd.read_csv('dummy_npi_data.csv')\n",
    "\n",
    "# Step 1: Extract the time portion (\"HH:MM\") from \"YYYY-MM-DD HH:MM:SS\"\n",
    "def extract_time(time_str):\n",
    "    if isinstance(time_str, str) and ' ' in time_str:\n",
    "        return time_str.split(' ')[1][:5]  # Extract \"HH:MM\"\n",
    "    return \"00:00\"  # Default for missing/invalid entries\n",
    "\n",
    "data['Login Time'] = data['Login Time'].apply(extract_time)\n",
    "data['Logout Time'] = data['Logout Time'].apply(extract_time)\n",
    "\n",
    "# Step 2: Validate the time format\n",
    "def is_valid_time(time_str):\n",
    "    return bool(re.match(r'^\\d{1,2}:\\d{2}$', str(time_str)))\n",
    "\n",
    "data = data[data['Login Time'].apply(is_valid_time)]\n",
    "data = data[data['Logout Time'].apply(is_valid_time)]\n",
    "\n",
    "# Step 3: Convert time to minutes since midnight\n",
    "data['Login_Time_Minutes'] = data['Login Time'].apply(lambda x: int(x.split(':')[0]) * 60 + int(x.split(':')[1]))\n",
    "data['Logout_Time_Minutes'] = data['Logout Time'].apply(lambda x: int(x.split(':')[0]) * 60 + int(x.split(':')[1]))\n",
    "\n",
    "# Step 4: Feature Engineering\n",
    "# Add dynamic features related to input time (e.g., input_time = 540 (9:00 AM))\n",
    "def create_time_features(df, input_time):\n",
    "    df['Active_Duration'] = df['Logout_Time_Minutes'] - df['Login_Time_Minutes']\n",
    "    df['Overlap_With_Input_Time'] = ((df['Login_Time_Minutes'] <= input_time) & (df['Logout_Time_Minutes'] >= input_time)).astype(int)\n",
    "    df['Time_Since_Last_Login'] = abs(df['Login_Time_Minutes'] - input_time)\n",
    "    return df\n",
    "\n",
    "# Simulate input_time for training (replace with actual logic if historical data exists)\n",
    "# For simplicity, assume input_time is the average of Login and Logout times\n",
    "data['Input_Time'] = (data['Login_Time_Minutes'] + data['Logout_Time_Minutes']) // 2\n",
    "data = create_time_features(data, data['Input_Time'].iloc[0])  # Use a sample input_time for training\n",
    "\n",
    "# Step 5: Define the target variable\n",
    "# Use historical survey attempts around the input time (if available)\n",
    "# For simplicity, assume the target is whether the doctor took a survey on the same day\n",
    "data['Likely_to_Attend'] = (data['Count of Survey Attempts'] > 0).astype(int)\n",
    "\n",
    "# Step 6: Features and target\n",
    "features = [\n",
    "    'Login_Time_Minutes',\n",
    "    'Logout_Time_Minutes',\n",
    "    'Usage Time (mins)',\n",
    "    'Count of Survey Attempts',\n",
    "    'Active_Duration',\n",
    "    'Overlap_With_Input_Time',\n",
    "    'Time_Since_Last_Login'\n",
    "]\n",
    "X = data[features]\n",
    "y = data['Likely_to_Attend']\n",
    "\n",
    "# Step 7: Train-test split\n",
    "X_train, X_test, y_train, y_test = train_test_split(X, y, test_size=0.2, random_state=42)\n",
    "\n",
    "# Step 8: Train the model (use a better algorithm)\n",
    "from xgboost import XGBClassifier\n",
    "\n",
    "model = XGBClassifier(\n",
    "    objective='binary:logistic',\n",
    "    eval_metric='logloss',\n",
    "    random_state=42\n",
    ")\n",
    "model.fit(X_train, y_train)\n",
    "\n",
    "# Step 9: Evaluate the model\n",
    "from sklearn.metrics import accuracy_score, precision_score, recall_score\n",
    "\n",
    "y_pred = model.predict(X_test)\n",
    "print(f\"Accuracy: {accuracy_score(y_test, y_pred):.2f}\")\n",
    "print(f\"Precision: {precision_score(y_test, y_pred):.2f}\")\n",
    "print(f\"Recall: {recall_score(y_test, y_pred):.2f}\")\n",
    "\n",
    "# Step 10: Save the model\n",
    "joblib.dump(model, 'survey_attendance_model.pkl')"
   ]
  },
  {
   "cell_type": "code",
   "execution_count": null,
   "id": "ba4bf7c5-64a3-48f9-a3e8-417dafac57db",
   "metadata": {},
   "outputs": [],
   "source": []
  }
 ],
 "metadata": {
  "kernelspec": {
   "display_name": "Python 3 (ipykernel)",
   "language": "python",
   "name": "python3"
  },
  "language_info": {
   "codemirror_mode": {
    "name": "ipython",
    "version": 3
   },
   "file_extension": ".py",
   "mimetype": "text/x-python",
   "name": "python",
   "nbconvert_exporter": "python",
   "pygments_lexer": "ipython3",
   "version": "3.12.8"
  }
 },
 "nbformat": 4,
 "nbformat_minor": 5
}
